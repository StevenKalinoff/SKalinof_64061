{
  "nbformat": 4,
  "nbformat_minor": 0,
  "metadata": {
    "colab": {
      "provenance": []
    },
    "kernelspec": {
      "name": "python3",
      "display_name": "Python 3"
    },
    "language_info": {
      "name": "python"
    }
  },
  "cells": [
    {
      "cell_type": "code",
      "source": [
        "#from google.colab import drive\n",
        "#drive.mount('/content/gdrive')\n",
        "#!unzip -qq /content/gdrive/MyDrive/cats_vs_dogs_small_dataset.zip\n",
        "\n",
        "import tensorflow as tf\n",
        "from tensorflow import keras\n",
        "from keras import Sequential\n",
        "from keras.layers import Dense,Conv2D,MaxPooling2D,Flatten,BatchNormalization,Dropout\n",
        "from keras import layers\n",
        "from keras import models\n",
        "from keras.models import Sequential\n",
        "from keras.utils import image_dataset_from_directory\n",
        "import matplotlib.pyplot as plt\n",
        "from keras.applications import VGG16"
      ],
      "metadata": {
        "id": "41rI-Z0aFIS7"
      },
      "execution_count": 3,
      "outputs": []
    },
    {
      "cell_type": "code",
      "source": [
        "# Code to remove the data and folder created from a previous run of the data\n",
        "!rm -rf \"cats_vs_dogs_small\"\n",
        "#!rm -rf \"cats_vs_dogs_small_dataset\""
      ],
      "metadata": {
        "id": "7NWcKp9Z-a6t"
      },
      "execution_count": 6,
      "outputs": []
    },
    {
      "cell_type": "code",
      "source": [
        "# Use the following code to partition the data into train/test/validation set:\n",
        "import os, shutil, pathlib\n",
        "\n",
        "original_dir = pathlib.Path(\"cats_vs_dogs_small_dataset\")\n",
        "new_base_dir = pathlib.Path(\"cats_vs_dogs_small\")\n",
        "\n",
        "def make_subset(subset_name, start_index, end_index):\n",
        "    count = 0\n",
        "    for category in (\"cat\", \"dog\"):\n",
        "        dir = new_base_dir / subset_name / category\n",
        "        os.makedirs(dir)\n",
        "\n",
        "        fnames = [f\"{i}.jpg\" for i in range(start_index, end_index)]\n",
        "        for fname in os.listdir(original_dir / category)[start_index:end_index]:\n",
        "            shutil.copyfile(original_dir / category / fname, dir / fname)\n",
        "            count += 1\n",
        "    return count\n",
        "\n",
        "train_count = make_subset(\"train\", start_index=0, end_index=500)\n",
        "validation_count = make_subset(\"validation\", start_index=500, end_index=750)\n",
        "test_count = make_subset(\"test\", start_index=750, end_index=1000)\n",
        "\n",
        "print(f\"Number of images in train subset: {train_count}\")\n",
        "print(f\"Number of images in validation subset: {validation_count}\")\n",
        "print(f\"Number of images in test subset: {test_count}\")\n",
        "\n",
        "train_ds = keras.utils.image_dataset_from_directory(\n",
        "    directory = pathlib.Path(\"cats_vs_dogs_small/train\"),\n",
        "    labels='inferred',\n",
        "    label_mode = 'int',\n",
        "    batch_size=100,\n",
        "    image_size=(150,150)\n",
        ")\n",
        "\n",
        "validation_ds = keras.utils.image_dataset_from_directory(\n",
        "    directory = pathlib.Path(\"cats_vs_dogs_small/test\"),\n",
        "    labels='inferred',\n",
        "    label_mode = 'int',\n",
        "    batch_size=64,\n",
        "    image_size=(150,150)\n",
        ")\n",
        "\n",
        "def process(image, label):\n",
        "    image = tf.cast(image / 255., tf.float32)\n",
        "    return image, label\n",
        "\n",
        "train_ds = train_ds.map(process).cache().prefetch(buffer_size=tf.data.AUTOTUNE)\n",
        "validation_ds = validation_ds.map(process).cache().prefetch(buffer_size=tf.data.AUTOTUNE)\n",
        "\n",
        "# Model Setup\n",
        "base_model = VGG16(weights='imagenet', include_top=False, input_shape=(150, 150, 3))\n",
        "\n",
        "for layer in base_model.layers[:15]:\n",
        "    layer.trainable = False\n",
        "\n",
        "model = models.Sequential([\n",
        "    base_model,\n",
        "    layers.Flatten(),\n",
        "    layers.Dense(512, activation='relu'),\n",
        "    layers.Dense(1, activation='sigmoid')\n",
        "])\n",
        "\n",
        "model.compile(optimizer='Adam', loss='binary_crossentropy', metrics=['accuracy'])\n",
        "\n",
        "history = model.fit(train_ds, epochs=10, validation_data=validation_ds)\n",
        "\n",
        "plt.plot(history.history['accuracy'], color='red', label='train')\n",
        "plt.plot(history.history['val_accuracy'], color='blue', label='validation')\n",
        "plt.legend()\n",
        "plt.show()"
      ],
      "metadata": {
        "id": "dYsvEGDpaMFr",
        "colab": {
          "base_uri": "https://localhost:8080/",
          "height": 864
        },
        "outputId": "aa03b984-a502-49be-b602-e0e6ffff9e91"
      },
      "execution_count": 7,
      "outputs": [
        {
          "output_type": "stream",
          "name": "stdout",
          "text": [
            "Number of images in train subset: 1000\n",
            "Number of images in validation subset: 500\n",
            "Number of images in test subset: 500\n",
            "Found 1000 files belonging to 2 classes.\n",
            "Found 500 files belonging to 2 classes.\n",
            "Epoch 1/10\n",
            "10/10 [==============================] - 456s 47s/step - loss: 1.0915 - accuracy: 0.4870 - val_loss: 2.2585 - val_accuracy: 0.5000\n",
            "Epoch 2/10\n",
            "10/10 [==============================] - 452s 47s/step - loss: 0.9648 - accuracy: 0.5000 - val_loss: 0.6929 - val_accuracy: 0.5140\n",
            "Epoch 3/10\n",
            "10/10 [==============================] - 450s 47s/step - loss: 0.7159 - accuracy: 0.5320 - val_loss: 0.6872 - val_accuracy: 0.5240\n",
            "Epoch 4/10\n",
            "10/10 [==============================] - 449s 46s/step - loss: 0.6868 - accuracy: 0.5780 - val_loss: 0.6687 - val_accuracy: 0.5960\n",
            "Epoch 5/10\n",
            "10/10 [==============================] - 449s 46s/step - loss: 0.6503 - accuracy: 0.6200 - val_loss: 0.6428 - val_accuracy: 0.5260\n",
            "Epoch 6/10\n",
            "10/10 [==============================] - 438s 45s/step - loss: 0.5919 - accuracy: 0.6740 - val_loss: 0.5381 - val_accuracy: 0.7220\n",
            "Epoch 7/10\n",
            "10/10 [==============================] - 438s 45s/step - loss: 0.5011 - accuracy: 0.7630 - val_loss: 0.5188 - val_accuracy: 0.7340\n",
            "Epoch 8/10\n",
            "10/10 [==============================] - 450s 47s/step - loss: 0.3710 - accuracy: 0.8390 - val_loss: 0.3955 - val_accuracy: 0.8220\n",
            "Epoch 9/10\n",
            "10/10 [==============================] - 439s 45s/step - loss: 0.2588 - accuracy: 0.8980 - val_loss: 0.4183 - val_accuracy: 0.8380\n",
            "Epoch 10/10\n",
            "10/10 [==============================] - 450s 47s/step - loss: 0.1987 - accuracy: 0.9160 - val_loss: 0.5249 - val_accuracy: 0.8000\n"
          ]
        },
        {
          "output_type": "display_data",
          "data": {
            "text/plain": [
              "<Figure size 640x480 with 1 Axes>"
            ],
            "image/png": "[encoded data removed]"
          },
          "metadata": {}
        }
      ]
    }
  ]
}
